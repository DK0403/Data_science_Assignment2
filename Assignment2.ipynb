{
  "nbformat": 4,
  "nbformat_minor": 0,
  "metadata": {
    "colab": {
      "provenance": []
    },
    "kernelspec": {
      "name": "python3",
      "display_name": "Python 3"
    },
    "language_info": {
      "name": "python"
    }
  },
  "cells": [
    {
      "cell_type": "code",
      "execution_count": null,
      "metadata": {
        "id": "orI_7sTUI02d"
      },
      "outputs": [],
      "source": [
        "#Ans1\n",
        "#To comment code in Python, you can use the # symbol for single-line comments.\n",
        "#For multi-line comments, you can enclose the text within triple quotes (''' or \"\"\")."
      ]
    },
    {
      "cell_type": "code",
      "source": [
        "#Ans2\n",
        "#variables in Python are containers used to store data values. You declare a variable by assigning a value to it using the = sign.\n",
        "a=2"
      ],
      "metadata": {
        "id": "yAk0RasWI9Gl"
      },
      "execution_count": 2,
      "outputs": []
    },
    {
      "cell_type": "code",
      "source": [
        "#Ans3\n",
        "num = 10\n",
        "str_num = str(num)  # Converts num to string, usig in built functions\n"
      ],
      "metadata": {
        "id": "_adD5vMjJLso"
      },
      "execution_count": 1,
      "outputs": []
    },
    {
      "cell_type": "code",
      "source": [
        "#Ans4\n",
        "#python script_name.py\n"
      ],
      "metadata": {
        "id": "j8DG01AJJcod"
      },
      "execution_count": null,
      "outputs": []
    },
    {
      "cell_type": "code",
      "source": [
        "#Ans5\n",
        "list1 = [1, 2, 3, 4, 5]\n",
        "list2 = list1[1:3]\n"
      ],
      "metadata": {
        "id": "EJLdBVSYJl_y"
      },
      "execution_count": null,
      "outputs": []
    },
    {
      "cell_type": "code",
      "source": [
        "#Ans6\n",
        "#In mathematics, a complex number is represented as a + bi, where a and b are real numbers and i is the imaginary unit(iota).\n",
        "my_complex_number = complex(3, 4)\n",
        "print(my_complex_number)\n"
      ],
      "metadata": {
        "colab": {
          "base_uri": "https://localhost:8080/"
        },
        "id": "dyxNrosqJxYm",
        "outputId": "4ea6bb19-0ba0-413c-bd2b-fd8669a4f65c"
      },
      "execution_count": 3,
      "outputs": [
        {
          "output_type": "stream",
          "name": "stdout",
          "text": [
            "(3+4j)\n"
          ]
        }
      ]
    },
    {
      "cell_type": "code",
      "source": [
        "#Ans7\n",
        "age=25"
      ],
      "metadata": {
        "id": "QFwbFuVYKxzw"
      },
      "execution_count": null,
      "outputs": []
    },
    {
      "cell_type": "code",
      "source": [
        "#Ans8\n",
        "price=9.99 #float"
      ],
      "metadata": {
        "id": "eWKXyC3wK1PN"
      },
      "execution_count": null,
      "outputs": []
    },
    {
      "cell_type": "markdown",
      "source": [
        "#Ans9\n",
        "name='Dishank Arora'\n",
        "print(name)\n"
      ],
      "metadata": {
        "id": "YjH6YFCmK-S9"
      }
    },
    {
      "cell_type": "code",
      "source": [
        "#Ans10\n",
        "my_string = \"Hello, World!\"\n",
        "substring = my_string[7:12]\n"
      ],
      "metadata": {
        "id": "rG60U3uDLehE"
      },
      "execution_count": 7,
      "outputs": []
    },
    {
      "cell_type": "code",
      "source": [
        "#Ans11\n",
        "is_student = True  #True if you are a student, False otherwise\n"
      ],
      "metadata": {
        "id": "cqFBpULmLp8E"
      },
      "execution_count": 9,
      "outputs": []
    }
  ]
}